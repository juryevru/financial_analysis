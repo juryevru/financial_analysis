{
 "cells": [
  {
   "cell_type": "markdown",
   "metadata": {},
   "source": [
    "## Discrete Capitalization Formulas with Discrete Payments"
   ]
  },
  {
   "cell_type": "markdown",
   "metadata": {},
   "source": [
    "(c) Rodion Iurev, 2020\n",
    "rodion@juryev.ru"
   ]
  },
  {
   "cell_type": "markdown",
   "metadata": {},
   "source": [
    "Single"
   ]
  },
  {
   "cell_type": "code",
   "execution_count": 1,
   "metadata": {},
   "outputs": [],
   "source": [
    "def future_given_present(present, i, period):\n",
    "    factor = (1 + i) ** period\n",
    "    return round(present * factor, 2), round(factor, 4)"
   ]
  },
  {
   "cell_type": "code",
   "execution_count": 20,
   "metadata": {},
   "outputs": [],
   "source": [
    "def present_given_future(future, i, period):\n",
    "    factor = (1 + i) ** -period\n",
    "    return round(future * factor, 2), round(factor, 4)"
   ]
  },
  {
   "cell_type": "markdown",
   "metadata": {},
   "source": [
    "Equal payment series"
   ]
  },
  {
   "cell_type": "code",
   "execution_count": 48,
   "metadata": {},
   "outputs": [],
   "source": [
    "def future_given_annuity(annuity, i, period):\n",
    "    factor = ((1 + i) ** period - 1) / i\n",
    "    return round(annuity * factor, 2), round(factor, 4)"
   ]
  },
  {
   "cell_type": "code",
   "execution_count": 62,
   "metadata": {},
   "outputs": [],
   "source": [
    "def annuity_given_future(future, i, period):\n",
    "    factor = i / (((1 + i) ** period) - 1)\n",
    "    return round(future * factor, 2), round(factor, 4)"
   ]
  },
  {
   "cell_type": "code",
   "execution_count": 11,
   "metadata": {},
   "outputs": [],
   "source": [
    "def present_given_annuity(annuity, i, period):\n",
    "    factor = (((1 + i) ** period) - 1) / (i * ((1 + i) ** period))\n",
    "    return round(annuity * factor, 2), round(factor, 4)"
   ]
  },
  {
   "cell_type": "code",
   "execution_count": 78,
   "metadata": {},
   "outputs": [],
   "source": [
    "def annuity_given_present(present, i, period):\n",
    "    factor = (i * (1 + i) ** period) / ((1 + i)** period - 1)\n",
    "    return round(present * factor, 2), round(factor, 4)"
   ]
  },
  {
   "cell_type": "markdown",
   "metadata": {},
   "source": [
    "Gradient series"
   ]
  },
  {
   "cell_type": "code",
   "execution_count": 3,
   "metadata": {},
   "outputs": [],
   "source": [
    "def present_given_gradient(gradient, i, period):\n",
    "    factor = ((1 + i) ** period - i * period - 1) / (i ** 2 * (1 + i) ** period)\n",
    "    return round(gradient * factor, 2), round(factor, 4)"
   ]
  },
  {
   "cell_type": "code",
   "execution_count": 5,
   "metadata": {},
   "outputs": [],
   "source": [
    "def annuity_given_gradient(gradient, i, period):\n",
    "    factor = ((1 + i) ** period - i * period - 1) / i * ((1 + i) ** period - 1)\n",
    "    return round(gradient * factor, 2), round(factor, 4)"
   ]
  },
  {
   "cell_type": "code",
   "execution_count": 8,
   "metadata": {},
   "outputs": [],
   "source": [
    "def present_given_geometric_gradient(annuity_1, gradient, i, period):\n",
    "    factor = period / (1 + i) if i == gradient else (1 - ((1 + gradient) ** period) / ((1 + i) ** period)) / (i - gradient)\n",
    "    return round(annuity_1 * factor, 2), round(factor, 4)               "
   ]
  },
  {
   "cell_type": "code",
   "execution_count": 41,
   "metadata": {},
   "outputs": [],
   "source": [
    "def period_given_future_annuity(future, annuity, i):\n",
    "    import math.log as log\n",
    "    return log(future * i / annuity + 1) / log(1 + i)    "
   ]
  },
  {
   "cell_type": "markdown",
   "metadata": {},
   "source": [
    "For print (not all)"
   ]
  },
  {
   "cell_type": "code",
   "execution_count": 90,
   "metadata": {},
   "outputs": [],
   "source": [
    "def fa(annuity, i, period):\n",
    "    res = future_given_annuity(annuity, i, period)\n",
    "    print(f'${annuity}*((1 + {i}){period} - 1) / {i} = ${annuity} * ({res[1]}) = ${res[0]}')"
   ]
  },
  {
   "cell_type": "code",
   "execution_count": 84,
   "metadata": {},
   "outputs": [],
   "source": [
    "def af(future, i, period):\n",
    "    res = annuity_given_future(future, i, period)\n",
    "    print(f'${future}*({i} / ((1 + {i}){period} - 1) = ${future} * ({res[1]}) = ${res[0]}')"
   ]
  },
  {
   "cell_type": "code",
   "execution_count": 39,
   "metadata": {},
   "outputs": [],
   "source": [
    "def pa(annuity, i, period):\n",
    "    res = present_given_annuity(annuity, i, period)\n",
    "    print(f'${annuity} * ((1 + {i}){period} - 1) / {i} * (1 + {i}){period} = ${annuity} * ({res[1]}) = ${res[0]}')"
   ]
  },
  {
   "cell_type": "code",
   "execution_count": 79,
   "metadata": {},
   "outputs": [],
   "source": [
    "def ap(present, i, period):\n",
    "    res = annuity_given_present(present, i, period)\n",
    "    print(f'${present}*({i}(1 + {i}){period} / ((1 + {i}){period} - 1) = ${present} * ({res[1]}) = ${res[0]}')"
   ]
  }
 ],
 "metadata": {
  "kernelspec": {
   "display_name": "Python 3",
   "language": "python",
   "name": "python3"
  },
  "language_info": {
   "codemirror_mode": {
    "name": "ipython",
    "version": 3
   },
   "file_extension": ".py",
   "mimetype": "text/x-python",
   "name": "python",
   "nbconvert_exporter": "python",
   "pygments_lexer": "ipython3",
   "version": "3.7.3"
  },
  "varInspector": {
   "cols": {
    "lenName": 16,
    "lenType": 16,
    "lenVar": 40
   },
   "kernels_config": {
    "python": {
     "delete_cmd_postfix": "",
     "delete_cmd_prefix": "del ",
     "library": "var_list.py",
     "varRefreshCmd": "print(var_dic_list())"
    },
    "r": {
     "delete_cmd_postfix": ") ",
     "delete_cmd_prefix": "rm(",
     "library": "var_list.r",
     "varRefreshCmd": "cat(var_dic_list()) "
    }
   },
   "types_to_exclude": [
    "module",
    "function",
    "builtin_function_or_method",
    "instance",
    "_Feature"
   ],
   "window_display": false
  }
 },
 "nbformat": 4,
 "nbformat_minor": 2
}
